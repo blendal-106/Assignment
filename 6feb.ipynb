{
 "cells": [
  {
   "cell_type": "code",
   "execution_count": 1,
   "id": "fabf5a14-701a-4caa-8ba8-4d22caf5dc63",
   "metadata": {},
   "outputs": [
    {
     "name": "stdout",
     "output_type": "stream",
     "text": [
      "[1, 2, 3, 4, 44, 55, 66, 34, 56, 78, 89, 34, 1, 2, 3, 1, 4, 34, 55, 67, 78, 89, 45, 22, 61, 34, 56]\n",
      "['key2', 'data science', 'Machine Learning']\n",
      "[True, False]\n"
     ]
    }
   ],
   "source": [
    "# 1\n",
    "list1 = [1,2,3,4, [44,55,66, True], False, (34,56,78,89,34), {1,2,3,3,2,1}, {1:34, \"key2\": [55, 67, 78, 89], 4: (45,\n",
    "22, 61, 34)}, [56, 'data science'], 'Machine Learning']\n",
    "li_int=[]\n",
    "li_str=[]\n",
    "li_bool=[]\n",
    "\n",
    "for i in list1 :\n",
    "    if type(i)==int:\n",
    "        li_int.append(i)\n",
    "    elif type(i)==str:\n",
    "        li_str.append(i)\n",
    "    elif type(i)==bool:\n",
    "        li_bool.append(i)\n",
    "        \n",
    "    elif type(i)==tuple or type(i)==set or type(i)==list:\n",
    "        for j in i :\n",
    "            if type(j)==int:\n",
    "                li_int.append(j)\n",
    "            elif type(j)==str:\n",
    "                li_str.append(j)\n",
    "            elif type(j)==bool:\n",
    "                li_bool.append(j)\n",
    "                \n",
    "    elif type(i)==dict :\n",
    "        for key in i.keys():\n",
    "            if type(key)==int:\n",
    "                li_int.append(key)\n",
    "            elif type(key)==str:\n",
    "                li_str.append(key) \n",
    "            elif type(key)==bool:\n",
    "                li_bool.append(key)\n",
    "                \n",
    "        for key in i.values():\n",
    "            if type(key)==int:\n",
    "                li_int.append(key)\n",
    "            elif type(key)==str:\n",
    "                li_str.append(key)\n",
    "            elif type(key)==bool:\n",
    "                li_bool.append(key)\n",
    "                \n",
    "            elif type(key)==tuple or type(key)==set or type(key)==list:\n",
    "                for k in key :\n",
    "                    if type(k)==int:\n",
    "                        li_int.append(k)\n",
    "                    elif type(k)==str:\n",
    "                        li_str.append(k)\n",
    "                    elif type(k)==bool:\n",
    "                        li_bool.append(k)\n",
    "                    \n",
    "                \n",
    "print(li_int,li_str,li_bool,sep=\"\\n\")\n",
    "                "
   ]
  },
  {
   "cell_type": "code",
   "execution_count": 11,
   "id": "7147c92c-a801-4d99-ab92-0e6f156e1d9d",
   "metadata": {},
   "outputs": [
    {
     "name": "stdin",
     "output_type": "stream",
     "text": [
      "Enter the Sentence for Incryption : I want to Become a Data Scientist\n"
     ]
    },
    {
     "ename": "TypeError",
     "evalue": "must be str, not int",
     "output_type": "error",
     "traceback": [
      "\u001b[0;31m---------------------------------------------------------------------------\u001b[0m",
      "\u001b[0;31mTypeError\u001b[0m                                 Traceback (most recent call last)",
      "Cell \u001b[0;32mIn[11], line 11\u001b[0m\n\u001b[1;32m      9\u001b[0m         s \u001b[38;5;241m=\u001b[39ms\u001b[38;5;241m+\u001b[39m\u001b[38;5;124m'\u001b[39m\u001b[38;5;124m$\u001b[39m\u001b[38;5;124m'\u001b[39m \n\u001b[1;32m     10\u001b[0m     \u001b[38;5;28;01melse\u001b[39;00m :\n\u001b[0;32m---> 11\u001b[0m         s\u001b[38;5;241m=\u001b[39ms\u001b[38;5;241m+\u001b[39ma[\u001b[38;5;241m-\u001b[39m(\u001b[43ma\u001b[49m\u001b[38;5;241;43m.\u001b[39;49m\u001b[43mindex\u001b[49m\u001b[43m(\u001b[49m\u001b[43mi\u001b[49m\u001b[43m)\u001b[49m)\u001b[38;5;241m-\u001b[39m\u001b[38;5;241m1\u001b[39m]\n\u001b[1;32m     12\u001b[0m \u001b[38;5;28mprint\u001b[39m(s)    \n",
      "\u001b[0;31mTypeError\u001b[0m: must be str, not int"
     ]
    }
   ],
   "source": [
    "#2 Encryption\n",
    "\n",
    "st=input(\"Enter the Sentence for Incryption :\")\n",
    "st=st.lower()\n",
    "a='abcdefghijklmnopqrstuvwxyz'\n",
    "s=' '\n",
    "for j in st :\n",
    "    if j==\" \" :\n",
    "        s =s+'$' \n",
    "    else :\n",
    "        s=s+a[-(a.index(i))-1]\n",
    "print(s)    "
   ]
  },
  {
   "cell_type": "code",
   "execution_count": null,
   "id": "513b6d71-562a-416a-901a-cc8f0acd2d54",
   "metadata": {},
   "outputs": [],
   "source": []
  }
 ],
 "metadata": {
  "kernelspec": {
   "display_name": "Python 3 (ipykernel)",
   "language": "python",
   "name": "python3"
  },
  "language_info": {
   "codemirror_mode": {
    "name": "ipython",
    "version": 3
   },
   "file_extension": ".py",
   "mimetype": "text/x-python",
   "name": "python",
   "nbconvert_exporter": "python",
   "pygments_lexer": "ipython3",
   "version": "3.10.8"
  }
 },
 "nbformat": 4,
 "nbformat_minor": 5
}
