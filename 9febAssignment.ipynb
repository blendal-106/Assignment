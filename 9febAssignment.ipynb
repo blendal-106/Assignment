{
 "cells": [
  {
   "cell_type": "code",
   "execution_count": 23,
   "id": "68514c49-060e-4252-943f-aea8918fafac",
   "metadata": {},
   "outputs": [
    {
     "name": "stdout",
     "output_type": "stream",
     "text": [
      "55\n",
      "180\n",
      "Honda Shine\n"
     ]
    }
   ],
   "source": [
    "#1\n",
    "class Vechicle :\n",
    "    def __init__(self,name_of_vechicle,max_speed,average_of_vehicle):\n",
    "        self.name_of_vehicle=name_of_vechicle\n",
    "        self.max_speed=max_speed\n",
    "        self.average_of_vehicle=average_of_vehicle\n",
    "\n",
    "shine=Vechicle(\"Honda Shine\",180,55)\n",
    "print(shine.average_of_vehicle)\n",
    "print(shine.max_speed)\n",
    "print(shine.name_of_vehicle)"
   ]
  },
  {
   "cell_type": "code",
   "execution_count": 29,
   "id": "01a5a38d-1036-4948-88ae-39149ed66a1c",
   "metadata": {},
   "outputs": [
    {
     "name": "stdout",
     "output_type": "stream",
     "text": [
      "Creta\n",
      "180\n",
      "15\n",
      "4\n"
     ]
    }
   ],
   "source": [
    "#2\n",
    "\n",
    "class Car(Vechicle) :\n",
    "    def seat_capacity(self,cap):\n",
    "        self.seating_capacity=cap\n",
    "        return self.name_of_vehicle ,self.max_speed, self.average_of_vehicle,self.seating_capacity\n",
    "creta=Car(\"Creta\",180,15)\n",
    "for i in creta.seat_capacity(4):\n",
    "    print(i,end=\"\\n\")"
   ]
  },
  {
   "cell_type": "code",
   "execution_count": 32,
   "id": "bfac6ab9-fd02-47c9-b3d1-cc8950929fb3",
   "metadata": {},
   "outputs": [
    {
     "name": "stdout",
     "output_type": "stream",
     "text": [
      "I am method of parent1\n",
      "I am method of Parent2\n"
     ]
    },
    {
     "data": {
      "text/plain": [
       "'I am Method of Child Class'"
      ]
     },
     "execution_count": 32,
     "metadata": {},
     "output_type": "execute_result"
    }
   ],
   "source": [
    "# 3 : Multiple Inhertance : Type of Inheritance in which a single child class is inherited from multiple parent classes\n",
    "\n",
    "class Parent1:\n",
    "    def method1(self):\n",
    "        print(\"I am method of parent1\")\n",
    "\n",
    "class Parent2 :\n",
    "    def method2(self):\n",
    "        print(\"I am method of Parent2\")\n",
    "        \n",
    "class Child(Parent1,Parent2):\n",
    "    def method(self):\n",
    "        return \"I am Method of Child Class\"\n",
    "ch=Child()\n",
    "ch.method1()\n",
    "ch.method2()\n",
    "ch.method()"
   ]
  },
  {
   "cell_type": "code",
   "execution_count": 35,
   "id": "bc5cb125-fd80-4d84-9162-36088ed726bb",
   "metadata": {},
   "outputs": [
    {
     "data": {
      "text/plain": [
       "'TCS'"
      ]
     },
     "execution_count": 35,
     "metadata": {},
     "output_type": "execute_result"
    }
   ],
   "source": [
    "# 4 Getter and Setter : They are the used to give access for modifying the the private and protected variables of a Class\n",
    "\n",
    "class Company :\n",
    "    def __init__(self,name,):\n",
    "        self._name=name\n",
    "    \n",
    "    # getter\n",
    "    @property\n",
    "    def getname(self):\n",
    "        return self._name\n",
    "    #setter\n",
    "    @getname.setter\n",
    "    def setname(self,name):\n",
    "        self._name=name\n",
    "\n",
    "c= Company(\"TCS\")\n",
    "c.getname"
   ]
  },
  {
   "cell_type": "code",
   "execution_count": 37,
   "id": "db2fb5e6-fbdf-47ec-b24d-1c30f0eb7a57",
   "metadata": {},
   "outputs": [
    {
     "data": {
      "text/plain": [
       "'Cummins'"
      ]
     },
     "execution_count": 37,
     "metadata": {},
     "output_type": "execute_result"
    }
   ],
   "source": [
    "c.setname=\"Cummins\"\n",
    "c.getname"
   ]
  },
  {
   "cell_type": "code",
   "execution_count": 41,
   "id": "e10762c1-0e48-4d3e-bd9f-f1d05a8ce9b0",
   "metadata": {},
   "outputs": [
    {
     "name": "stdout",
     "output_type": "stream",
     "text": [
      "From Child\n"
     ]
    }
   ],
   "source": [
    "#5 Method Overriding : When a child inherited from parent have the same member function that parent have then when the function called by\n",
    "# the instance of child class then function of childclass will Invoke i,e . overrides the funcion of parent\n",
    "#Demonstration \n",
    "\n",
    "class Parent:\n",
    "    def Show(self):\n",
    "        print(\"From Parent\")\n",
    "class Child :\n",
    "    def Show(self):\n",
    "        print(\"From Child\")\n",
    "cl=Child()\n",
    "cl.Show()"
   ]
  },
  {
   "cell_type": "code",
   "execution_count": null,
   "id": "70cc4f5c-fcb4-436e-9ef5-0e639a2e4859",
   "metadata": {},
   "outputs": [],
   "source": []
  }
 ],
 "metadata": {
  "kernelspec": {
   "display_name": "Python 3 (ipykernel)",
   "language": "python",
   "name": "python3"
  },
  "language_info": {
   "codemirror_mode": {
    "name": "ipython",
    "version": 3
   },
   "file_extension": ".py",
   "mimetype": "text/x-python",
   "name": "python",
   "nbconvert_exporter": "python",
   "pygments_lexer": "ipython3",
   "version": "3.10.8"
  }
 },
 "nbformat": 4,
 "nbformat_minor": 5
}
